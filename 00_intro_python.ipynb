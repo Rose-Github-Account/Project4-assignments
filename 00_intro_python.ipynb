{
  "nbformat": 4,
  "nbformat_minor": 0,
  "metadata": {
    "colab": {
      "provenance": [],
      "authorship_tag": "ABX9TyMkiSaTzLQ44b6kdpRDG85S",
      "include_colab_link": true
    },
    "kernelspec": {
      "name": "python3",
      "display_name": "Python 3"
    },
    "language_info": {
      "name": "python"
    }
  },
  "cells": [
    {
      "cell_type": "markdown",
      "metadata": {
        "id": "view-in-github",
        "colab_type": "text"
      },
      "source": [
        "<a href=\"https://colab.research.google.com/github/Rose-Github-Account/Project4-assignments/blob/main/00_intro_python.ipynb\" target=\"_parent\"><img src=\"https://colab.research.google.com/assets/colab-badge.svg\" alt=\"Open In Colab\"/></a>"
      ]
    },
    {
      "cell_type": "markdown",
      "source": [
        "**ASSIGNMENTS 00**"
      ],
      "metadata": {
        "id": "MtxxA_W4TN6M"
      }
    },
    {
      "cell_type": "markdown",
      "source": [
        "**01_add_two_numbers**"
      ],
      "metadata": {
        "id": "J9FmCM7IE0ML"
      }
    },
    {
      "cell_type": "markdown",
      "source": [],
      "metadata": {
        "id": "VReNK3ttSbvn"
      }
    },
    {
      "cell_type": "code",
      "source": [
        "first_number = int(input(\"Enter the first number: \"))\n",
        "\n",
        "\n",
        "second_number = int(input(\"Enter the second number: \"))\n",
        "\n",
        "\n",
        "total_sum = first_number + second_number\n",
        "\n",
        "\n",
        "print(f\"The total sum of {first_number} and {second_number} is {total_sum}.\")"
      ],
      "metadata": {
        "colab": {
          "base_uri": "https://localhost:8080/"
        },
        "id": "utXZNe7xE4Zk",
        "outputId": "3183ca65-5fe1-464b-f1ee-099798e53af8"
      },
      "execution_count": null,
      "outputs": [
        {
          "output_type": "stream",
          "name": "stdout",
          "text": [
            "Enter the first number: 22\n",
            "Enter the second number: 22\n",
            "The total sum of 22 and 22 is 44.\n"
          ]
        }
      ]
    },
    {
      "cell_type": "markdown",
      "source": [
        "**02_agreement_bot.**"
      ],
      "metadata": {
        "id": "i8KC0JcoFSKV"
      }
    },
    {
      "cell_type": "code",
      "source": [
        "favourite_animal= input(\"What is your favourite animal? \")\n",
        "\n",
        "print(f\"My favourite animal is also {favourite_animal}\")"
      ],
      "metadata": {
        "colab": {
          "base_uri": "https://localhost:8080/"
        },
        "id": "nUTP9P8RFcKe",
        "outputId": "32b390fd-7797-4004-a553-94fc6840e1e3"
      },
      "execution_count": null,
      "outputs": [
        {
          "output_type": "stream",
          "name": "stdout",
          "text": [
            "What is your favourite animal? cow\n",
            "My favourite animal is also cow\n"
          ]
        }
      ]
    },
    {
      "cell_type": "markdown",
      "source": [
        "# **03_fahrenheit_to_celsius.md**\n",
        "Write a program which prompts the user for a temperature in Fahrenheit (this can be a number with decimal places!) and outputs the temperature converted to Celsius.\n",
        "\n"
      ],
      "metadata": {
        "id": "pfaway7RGRoP"
      }
    },
    {
      "cell_type": "code",
      "source": [
        "fahrenheit = float(input(\"Enter temperature in fahrenheit: \"))\n",
        "\n",
        "celcius = (fahrenheit -32) * 5/9\n",
        "\n",
        "print(f\"{fahrenheit} fahrenheit is equal to {celcius} celcius\")\n"
      ],
      "metadata": {
        "colab": {
          "base_uri": "https://localhost:8080/"
        },
        "id": "h2AxjgP0GltM",
        "outputId": "7613fff4-e31a-47e0-e9ad-389feaa9c674"
      },
      "execution_count": null,
      "outputs": [
        {
          "output_type": "stream",
          "name": "stdout",
          "text": [
            "Enter temperature in fahrenheit: 54\n",
            "54.0 fahrenheit is equal to 12.222222222222221 celcius\n"
          ]
        }
      ]
    },
    {
      "cell_type": "markdown",
      "source": [
        "# **04_how_old_are_they**\n",
        "Write a program to solve this age-related riddle!\n",
        "\n",
        "Anton, Beth, Chen, Drew, and Ethan are all friends. Their ages are as follows:\n",
        "\n",
        "Anton is 21 years old.\n",
        "\n",
        "Beth is 6 years older than Anton.\n",
        "\n",
        "Chen is 20 years older than Beth.\n",
        "\n",
        "Drew is as old as Chen's age plus Anton's age.\n",
        "\n",
        "Ethan is the same age as Chen"
      ],
      "metadata": {
        "id": "TDDsSgUjHnbi"
      }
    },
    {
      "cell_type": "code",
      "source": [
        "antone_age = 21\n",
        "beth_age = 21 +6\n",
        "chen_age = beth_age + 20\n",
        "drew_age = chen_age + antone_age\n",
        "ethane_age = chen_age\n",
        "\n",
        "print(f\"Anton is {antone_age} years old\")\n",
        "print(f\"Beth is {beth_age} years old\")\n",
        "print(f\"Chen is {chen_age} years old\")\n",
        "print(f\"Drew is {drew_age} years old\")\n",
        "print(f\"Ethan is {ethane_age} years old\")"
      ],
      "metadata": {
        "colab": {
          "base_uri": "https://localhost:8080/"
        },
        "id": "CM6k7n75H0vj",
        "outputId": "2003b1ed-b6f7-4b32-cb01-ebab965a8c96"
      },
      "execution_count": null,
      "outputs": [
        {
          "output_type": "stream",
          "name": "stdout",
          "text": [
            "Anton is 21 years old\n",
            "Beth is 27 years old\n",
            "Chen is 47 years old\n",
            "Drew is 68 years old\n",
            "Ethan is 47 years old\n"
          ]
        }
      ]
    },
    {
      "cell_type": "markdown",
      "source": [
        "# **05_triangle_perimeter.**\n",
        "Prompt the user to enter the lengths of each side of a triangle and then calculate and print the perimeter of the triangle (the sum of all of the side lengths).\n",
        "\n",
        "Here's a sample run of the program (user input is in bold italics):\n",
        "\n",
        "What is the length of side 1? 3\n",
        "\n",
        "What is the length of side 2? 4\n",
        "\n",
        "What is the length of side 3? 5.5\n",
        "\n",
        "The perimeter of the triangle is 12.5"
      ],
      "metadata": {
        "id": "EgPqaJxpJdkL"
      }
    },
    {
      "cell_type": "code",
      "source": [
        "side1 = float(input(\"What is the length of side 1? \"))\n",
        "side2 = float(input(\"What is the length of side 2? \"))\n",
        "side3 = float(input(\"What is the length of side 3? \"))\n",
        "\n",
        "perimeter = side1 + side2 + side3\n",
        "\n",
        "print(f\"The perimeter of the triangle is {perimeter}\")"
      ],
      "metadata": {
        "colab": {
          "base_uri": "https://localhost:8080/"
        },
        "id": "pZCDAnnaJwXc",
        "outputId": "4c97bc31-a9dd-4b80-b77f-44babcbbaea8"
      },
      "execution_count": null,
      "outputs": [
        {
          "output_type": "stream",
          "name": "stdout",
          "text": [
            "What is the length of side 1? 4\n",
            "What is the length of side 2? 5\n",
            "What is the length of side 3? 6\n",
            "The perimeter of the triangle is 15.0\n"
          ]
        }
      ]
    },
    {
      "cell_type": "markdown",
      "source": [
        "# **06_square_number.md**\n",
        "Ask the user for a number and print its square (the product of the number times itself).\n",
        "\n",
        "Here's a sample run of the program (user input is in bold italics):\n",
        "\n",
        "Type a number to see its square: 4\n",
        "\n",
        "4.0 squared is 16.0"
      ],
      "metadata": {
        "id": "DSV5YwoAKKAA"
      }
    },
    {
      "cell_type": "code",
      "source": [
        "number = float(input(\"type a number to see its square\"))\n",
        "square = number ** 2\n",
        "\n",
        "print(square)"
      ],
      "metadata": {
        "colab": {
          "base_uri": "https://localhost:8080/"
        },
        "id": "Vo6_to4mKi_A",
        "outputId": "3d956f40-94be-44e6-8546-578a25aaff08"
      },
      "execution_count": null,
      "outputs": [
        {
          "output_type": "stream",
          "name": "stdout",
          "text": [
            "type a number to see its square4\n",
            "16.0\n"
          ]
        }
      ]
    },
    {
      "cell_type": "code",
      "source": [
        "side1 = float(input(\"What is the length of side 1? \"))\n",
        "side2 = float(input(\"What is the length of side 2? \"))\n",
        "side3 = float(input(\"What is the length of side 3? \"))\n",
        "\n",
        "perimeter = side1 + side2 + side3\n",
        "\n",
        "print(f\"The perimeter of the triangle is {perimeter}\")"
      ],
      "metadata": {
        "colab": {
          "base_uri": "https://localhost:8080/"
        },
        "outputId": "4c97bc31-a9dd-4b80-b77f-44babcbbaea8",
        "id": "V47VTA2_U1VR"
      },
      "execution_count": null,
      "outputs": [
        {
          "output_type": "stream",
          "name": "stdout",
          "text": [
            "What is the length of side 1? 4\n",
            "What is the length of side 2? 5\n",
            "What is the length of side 3? 6\n",
            "The perimeter of the triangle is 15.0\n"
          ]
        }
      ]
    }
  ]
}