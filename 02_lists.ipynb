{
  "nbformat": 4,
  "nbformat_minor": 0,
  "metadata": {
    "colab": {
      "provenance": [],
      "authorship_tag": "ABX9TyNfsbfwzVbQKxJ10mVTbso5",
      "include_colab_link": true
    },
    "kernelspec": {
      "name": "python3",
      "display_name": "Python 3"
    },
    "language_info": {
      "name": "python"
    }
  },
  "cells": [
    {
      "cell_type": "markdown",
      "metadata": {
        "id": "view-in-github",
        "colab_type": "text"
      },
      "source": [
        "<a href=\"https://colab.research.google.com/github/Rose-Github-Account/Project4-assignments/blob/main/02_lists.ipynb\" target=\"_parent\"><img src=\"https://colab.research.google.com/assets/colab-badge.svg\" alt=\"Open In Colab\"/></a>"
      ]
    },
    {
      "cell_type": "markdown",
      "source": [
        "# **01_add_many_number.md**\n",
        "Write a function that takes a list of numbers and returns the sum of those numbers.\n",
        "\n"
      ],
      "metadata": {
        "id": "qyTjU_fW0rsj"
      }
    },
    {
      "cell_type": "code",
      "source": [
        "def sum_of_number(numbers):\n",
        "  return sum(numbers)\n",
        "\n",
        "numbers = [1,2,3,4,5,6]\n",
        "\n",
        "result = sum_of_number(numbers)\n",
        "print(f\"The sum of the numbers is: {result}\")"
      ],
      "metadata": {
        "colab": {
          "base_uri": "https://localhost:8080/"
        },
        "id": "Sssu5weE2L-u",
        "outputId": "a2130a9e-1450-470c-928e-4e7e34820f8a"
      },
      "execution_count": null,
      "outputs": [
        {
          "output_type": "stream",
          "name": "stdout",
          "text": [
            "The sum of the numbers is: 21\n"
          ]
        }
      ]
    },
    {
      "cell_type": "markdown",
      "source": [
        "# **02_double_list.md**\n",
        "Write a program that doubles each element in a list of numbers. For example, if you start with this list:\n",
        "\n",
        "numbers = [1, 2, 3, 4]\n",
        "\n",
        "You should end with this list:\n",
        "\n",
        "numbers = [2, 4, 6, 8]"
      ],
      "metadata": {
        "id": "CvzKQocu2ts-"
      }
    },
    {
      "cell_type": "code",
      "source": [
        "numbers = [1, 2, 3, 4]\n",
        "\n",
        "for i in range(len(numbers)):\n",
        "  numbers[i] = numbers[i] * 2\n",
        "\n",
        "print(numbers)\n"
      ],
      "metadata": {
        "colab": {
          "base_uri": "https://localhost:8080/"
        },
        "id": "-wEJWfV724Bs",
        "outputId": "a2a25507-57b1-4892-8e10-edb1553f7a51"
      },
      "execution_count": null,
      "outputs": [
        {
          "output_type": "stream",
          "name": "stdout",
          "text": [
            "[2, 4, 6, 8]\n"
          ]
        }
      ]
    },
    {
      "cell_type": "markdown",
      "source": [
        "# **03_erase_canvas**\n",
        "Implement an 'eraser' on a canvas.\n",
        "\n",
        "The canvas consists of a grid of blue 'cells' which are drawn as rectangles on the screen. We then create an eraser rectangle which, when dragged around the canvas, sets all of the rectangles it is in contact with to white."
      ],
      "metadata": {
        "id": "S-xawHpP4irJ"
      }
    },
    {
      "cell_type": "code",
      "source": [
        "import numpy as np\n",
        "import matplotlib.pyplot as plt\n",
        "import matplotlib.patches as patches\n",
        "\n",
        "\n",
        "GRID_SIZE = 10\n",
        "CELL_SIZE = 40\n",
        "ERASER_SIZE = 2\n",
        "\n",
        "# Create a figure and axis for plotting\n",
        "fig, ax = plt.subplots(figsize=(GRID_SIZE, GRID_SIZE))\n",
        "\n",
        "# Create a grid of blue rectangles\n",
        "for i in range(GRID_SIZE):\n",
        "    for j in range(GRID_SIZE):\n",
        "        ax.add_patch(patches.Rectangle((i * CELL_SIZE, j * CELL_SIZE), CELL_SIZE, CELL_SIZE, linewidth=1, edgecolor='black', facecolor='blue'))\n",
        "\n",
        "# Function to simulate the eraser\n",
        "def erase_cells(event):\n",
        "    # Get the mouse position\n",
        "    x, y = event.xdata, event.ydata\n",
        "\n",
        "    # Calculate which cell is clicked based on the mouse position\n",
        "    if x is None or y is None:  # Handle out-of-bounds clicks\n",
        "        return\n",
        "\n",
        "    # Find the cell grid position\n",
        "    col = int(x // CELL_SIZE)\n",
        "    row = int(y // CELL_SIZE)\n",
        "\n",
        "    # Erase (turn white) the cell\n",
        "    ax.add_patch(patches.Rectangle((col * CELL_SIZE, row * CELL_SIZE), CELL_SIZE, CELL_SIZE, linewidth=1, edgecolor='black', facecolor='white'))\n",
        "\n",
        "    # Redraw the grid\n",
        "    plt.draw()\n",
        "\n",
        "# Connect the click event to the erase function\n",
        "fig.canvas.mpl_connect('button_press_event', erase_cells)\n",
        "\n",
        "# Set limits and show the grid\n",
        "ax.set_xlim(0, GRID_SIZE * CELL_SIZE)\n",
        "ax.set_ylim(0, GRID_SIZE * CELL_SIZE)\n",
        "ax.set_aspect('equal')\n",
        "plt.show()\n"
      ],
      "metadata": {
        "colab": {
          "base_uri": "https://localhost:8080/",
          "height": 836
        },
        "id": "RHkNmlLt48Gx",
        "outputId": "dfd6b569-3f7b-4ad0-cc2a-cb36bf92dd23"
      },
      "execution_count": null,
      "outputs": [
        {
          "output_type": "display_data",
          "data": {
            "text/plain": [
              "<Figure size 1000x1000 with 1 Axes>"
            ],
            "image/png": "[encoded data removed]"
          },
          "metadata": {}
        }
      ]
    },
    {
      "cell_type": "markdown",
      "source": [
        "# **04_flowing_with_data_structures.**\n",
        "\n",
        "\n"
      ],
      "metadata": {
        "id": "jnnP8Q9x7sfd"
      }
    },
    {
      "cell_type": "code",
      "source": [
        "# Function that adds three copies of the data to the list\n",
        "def add_three_copies(lst, data):\n",
        "    lst.append(data)\n",
        "    lst.append(data)\n",
        "    lst.append(data)\n",
        "\n",
        "def main():\n",
        "\n",
        "    message = input(\"Enter a message to copy: \")\n",
        "\n",
        "\n",
        "    my_list = []\n",
        "\n",
        "\n",
        "    print(\"List before:\", my_list)\n",
        "\n",
        "\n",
        "    add_three_copies(my_list, message)\n",
        "\n",
        "    # Print the list after the function call\n",
        "    print(\"List after:\", my_list)\n",
        "\n",
        "# Run the program\n",
        "if __name__ == \"__main__\":\n",
        "    main()\n"
      ],
      "metadata": {
        "colab": {
          "base_uri": "https://localhost:8080/"
        },
        "id": "FZzqZDNV8QjO",
        "outputId": "d8af5009-04fe-4ac5-9394-aae7a8b02651"
      },
      "execution_count": null,
      "outputs": [
        {
          "output_type": "stream",
          "name": "stdout",
          "text": [
            "Enter a message to copy: hello\n",
            "List before: []\n",
            "List after: ['hello', 'hello', 'hello']\n"
          ]
        }
      ]
    },
    {
      "cell_type": "markdown",
      "source": [
        "# **05_get_first_element.md**"
      ],
      "metadata": {
        "id": "elta6KYg8Vsj"
      }
    },
    {
      "cell_type": "code",
      "source": [
        "\n",
        "def get_first_element(lst):\n",
        "\n",
        "    print(lst[0])\n",
        "\n",
        "\n",
        "def main():\n",
        "\n",
        "    user_list = []\n",
        "\n",
        "\n",
        "    num_elements = int(input(\"How many elements would you like to input? \"))\n",
        "\n",
        "\n",
        "    for _ in range(num_elements):\n",
        "        element = input(\"Enter an element: \")\n",
        "        user_list.append(element)\n",
        "\n",
        "\n",
        "    get_first_element(user_list)\n",
        "\n",
        "\n",
        "if __name__ == \"__main__\":\n",
        "    main()\n"
      ],
      "metadata": {
        "colab": {
          "base_uri": "https://localhost:8080/"
        },
        "id": "iMiJsZzr8kdW",
        "outputId": "44014698-2359-4c2a-e05f-7c61277f89e6"
      },
      "execution_count": null,
      "outputs": [
        {
          "output_type": "stream",
          "name": "stdout",
          "text": [
            "How many elements would you like to input? 3\n",
            "Enter an element: aaa\n",
            "Enter an element: cc\n",
            "Enter an element: vv\n",
            "aaa\n"
          ]
        }
      ]
    },
    {
      "cell_type": "markdown",
      "source": [
        "# **06_get_last_element.md**\n"
      ],
      "metadata": {
        "id": "sGeN3w9Q9ycL"
      }
    },
    {
      "cell_type": "code",
      "source": [
        "\n",
        "def get_last_element(lst):\n",
        "\n",
        "    print(lst[-1])\n",
        "\n",
        "\n",
        "def main():\n",
        "\n",
        "    user_list = []\n",
        "\n",
        "    print(\"Enter the elements of the list. Enter 'done' when finished.\")\n",
        "\n",
        "    while True:\n",
        "\n",
        "        element = input(\"Enter an element: \")\n",
        "\n",
        "\n",
        "        if element.lower() == 'done':\n",
        "            break\n",
        "\n",
        "\n",
        "        user_list.append(element)\n",
        "\n",
        "\n",
        "    get_last_element(user_list)\n",
        "\n",
        "\n",
        "if __name__ == \"__main__\":\n",
        "    main()\n"
      ],
      "metadata": {
        "colab": {
          "base_uri": "https://localhost:8080/"
        },
        "id": "Lc9uXeLX92DV",
        "outputId": "9de0b366-5610-4ef5-beac-9ecbfa6bfc69"
      },
      "execution_count": null,
      "outputs": [
        {
          "output_type": "stream",
          "name": "stdout",
          "text": [
            "Enter the elements of the list. Enter 'done' when finished.\n",
            "Enter an element: aaa\n",
            "Enter an element: dddd\n",
            "Enter an element: hhh\n",
            "Enter an element: kkk\n",
            "Enter an element: kkk\n",
            "Enter an element: llllll\n",
            "Enter an element: tttt\n",
            "Enter an element: ppppp\n",
            "Enter an element: ssss\n",
            "Enter an element: done\n",
            "ssss\n"
          ]
        }
      ]
    },
    {
      "cell_type": "markdown",
      "source": [
        "# **07_get_list**\n",
        "Write a program which continuously asks the user to enter values which are added one by one into a list. When the user presses enter without typing anything, print the list."
      ],
      "metadata": {
        "id": "ytbnG54y-oeH"
      }
    },
    {
      "cell_type": "code",
      "source": [
        "\n",
        "user_list = []\n",
        "\n",
        "\n",
        "while True:\n",
        "    value = input(\"Enter a value: \")\n",
        "\n",
        "\n",
        "    if value == \"\":\n",
        "        break\n",
        "\n",
        "\n",
        "    user_list.append(value)\n",
        "\n",
        "8\n",
        "\n",
        "print(\"Here's the list:\", user_list)\n"
      ],
      "metadata": {
        "id": "Z2_C181N-sj5"
      },
      "execution_count": null,
      "outputs": []
    },
    {
      "cell_type": "markdown",
      "source": [
        "# **08_shorten**\n",
        "Fill out the function shorten(lst) which removes elements from the end of lst, which is a list, and prints each item it removes until lst is MAX_LENGTH items long. If lst is already shorter than MAX_LENGTH you should leave it unchanged. We've written a main() function for you which gets a list and passes it into your function once you run the program. For the autograder to pass you will need MAX_LENGTH to be 3, but feel free to change it around to test your program."
      ],
      "metadata": {
        "id": "cMxYhkfQ_ZD-"
      }
    },
    {
      "cell_type": "code",
      "source": [
        "MAX_LENGTH = 3\n",
        "\n",
        "\n",
        "def shorten(lst):\n",
        "\n",
        "    while len(lst) > MAX_LENGTH:\n",
        "\n",
        "        removed_item = lst.pop()\n",
        "        print(removed_item)\n",
        "\n",
        "\n",
        "def main():\n",
        "\n",
        "    user_list = ['a', 'b', 'c', 'd', 'e']\n",
        "\n",
        "    print(\"Original list:\", user_list)\n",
        "\n",
        "\n",
        "    shorten(user_list)\n",
        "\n",
        "\n",
        "    print(\"Modified list:\", user_list)\n",
        "\n",
        "\n",
        "if __name__ == \"__main__\":\n",
        "    main()\n"
      ],
      "metadata": {
        "id": "mv5GD9LI_guT"
      },
      "execution_count": null,
      "outputs": []
    }
  ]
}