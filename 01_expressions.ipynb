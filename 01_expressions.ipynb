{
  "nbformat": 4,
  "nbformat_minor": 0,
  "metadata": {
    "colab": {
      "provenance": [],
      "authorship_tag": "ABX9TyPuvwHH1ZiMKqZ7e4FSkon5",
      "include_colab_link": true
    },
    "kernelspec": {
      "name": "python3",
      "display_name": "Python 3"
    },
    "language_info": {
      "name": "python"
    }
  },
  "cells": [
    {
      "cell_type": "markdown",
      "metadata": {
        "id": "view-in-github",
        "colab_type": "text"
      },
      "source": [
        "<a href=\"https://colab.research.google.com/github/Rose-Github-Account/Project4-assignments/blob/main/01_expressions.ipynb\" target=\"_parent\"><img src=\"https://colab.research.google.com/assets/colab-badge.svg\" alt=\"Open In Colab\"/></a>"
      ]
    },
    {
      "cell_type": "markdown",
      "source": [
        "## **01_dicesimulator**\n",
        "t\n",
        "Simulate rolling two dice, three times. Prints the results of each die roll. This program is used to show how variable scope works."
      ],
      "metadata": {
        "id": "sV47b1WcN6sa"
      }
    },
    {
      "cell_type": "code",
      "source": [
        "import random\n",
        "def roll_dice():\n",
        "  return random.randint(1, 6)\n",
        "\n",
        "for roll_num in range(1 , 4):\n",
        "  die1 = roll_dice()\n",
        "  die2 = roll_dice()\n",
        "  print(f\"Roll {roll_num}: Die 1 = {die1}, Die 2 = {die2}\")"
      ],
      "metadata": {
        "colab": {
          "base_uri": "https://localhost:8080/"
        },
        "id": "b67o1EzhOGyq",
        "outputId": "488714c0-da63-4968-b93c-96ba2dd2a2a5"
      },
      "execution_count": null,
      "outputs": [
        {
          "output_type": "stream",
          "name": "stdout",
          "text": [
            "Roll 1: Die 1 = 1, Die 2 = 3\n",
            "Roll 2: Die 1 = 2, Die 2 = 1\n",
            "Roll 3: Die 1 = 1, Die 2 = 5\n"
          ]
        }
      ]
    },
    {
      "cell_type": "markdown",
      "source": [
        "# **02_e=mc2.md**\n",
        "Write a program that continually reads in mass from the user and then outputs the equivalent energy using Einstein's mass-energy equivalence formula (E stands for energy, m stands for mass, and C is the speed of light:\n"
      ],
      "metadata": {
        "id": "vctkGfqaQbGs"
      }
    },
    {
      "cell_type": "code",
      "source": [
        "C = 299792458\n",
        "\n",
        "# Loop to continually ask for mass and calculate energy\n",
        "while True:\n",
        "    # Prompt the user to enter the mass in kilograms\n",
        "    mass = float(input(\"Enter kilos of mass: \"))\n",
        "\n",
        "    # Calculate the energy using Einstein's formula: E = m * C^2\n",
        "    energy = mass * C**2\n",
        "\n",
        "    # Print the results\n",
        "    print(f\"\\ne = m * C^2...\")\n",
        "    print(f\"m = {mass} kg\")\n",
        "    print(f\"C = {C} m/s\")\n",
        "    print(f\"{energy} joules of energy!\\n\")"
      ],
      "metadata": {
        "colab": {
          "base_uri": "https://localhost:8080/"
        },
        "id": "Fw-hEzNbQslP",
        "outputId": "6e896604-f141-419e-b56c-415189261bf5"
      },
      "execution_count": null,
      "outputs": [
        {
          "name": "stdout",
          "output_type": "stream",
          "text": [
            "\n",
            "e = m * C^2...\n",
            "m = 45.0 kg\n",
            "C = 299792458 m/s\n",
            "4.044398304315679e+18 joules of energy!\n",
            "\n",
            "\n",
            "e = m * C^2...\n",
            "m = 2.0 kg\n",
            "C = 299792458 m/s\n",
            "1.7975103574736352e+17 joules of energy!\n",
            "\n",
            "\n",
            "e = m * C^2...\n",
            "m = 22.0 kg\n",
            "C = 299792458 m/s\n",
            "1.9772613932209987e+18 joules of energy!\n",
            "\n",
            "Enter kilos of mass: 233\n"
          ]
        }
      ]
    },
    {
      "cell_type": "markdown",
      "source": [
        "# **03_feet_to_inches.md**\n",
        "Converts feet to inches. Feet is an American unit of measurement. There are 12 inches per foot. Foot is the singular, and feet is the plural."
      ],
      "metadata": {
        "id": "Q67q9k4EYhrI"
      }
    },
    {
      "cell_type": "code",
      "source": [
        "feet = float(input(\"Enter feet: \"))\n",
        "inches = feet * 12\n",
        "print(f\"{feet} feet is {inches} inches.\")"
      ],
      "metadata": {
        "id": "0sxk3eGJYn6o"
      },
      "execution_count": null,
      "outputs": []
    },
    {
      "cell_type": "markdown",
      "source": [
        "# **04_pythagorean_theorem.md**\n"
      ],
      "metadata": {
        "id": "3qFbvglLaH0Y"
      }
    },
    {
      "cell_type": "code",
      "source": [
        "import math\n",
        "\n",
        "ab = float(input(\"Enter the number of ab:\"))\n",
        "ac = float(input(\"Enter the number of ac:\"))\n",
        "\n",
        "bc = math.sqrt(ab**2 + ac**2)\n",
        "print(f\"the length of hypotenuse is {bc}\")"
      ],
      "metadata": {
        "colab": {
          "base_uri": "https://localhost:8080/"
        },
        "id": "UNvB5om-bVGz",
        "outputId": "9c2a8bdb-ae2d-4306-f1b2-d1844324853d"
      },
      "execution_count": null,
      "outputs": [
        {
          "output_type": "stream",
          "name": "stdout",
          "text": [
            "Enter the number of ab:2\n",
            "Enter the number of ac:3\n",
            "the length of hypotenuse is 3.605551275463989\n"
          ]
        }
      ]
    },
    {
      "cell_type": "markdown",
      "source": [
        "# **05_remainder_division.md**\n",
        "Ask the user for two numbers, one at a time, and then print the result of dividing the first number by the second and also the remainder of the division.\n",
        "\n",
        "Here's a sample run of the program (user input is in bold italics):\n",
        "\n",
        "Please enter an integer to be divided: 5\n",
        "\n",
        "Please enter an integer to divide by: 3\n",
        "\n",
        "The result of this division is 1 with a remainder of 2"
      ],
      "metadata": {
        "id": "q0Jxza_jchnC"
      }
    },
    {
      "cell_type": "code",
      "source": [
        "divident = int(input(\"Please enter an integer to be divided: \"))\n",
        "divisor = int(input(\"Please enter an integer to divide by: \"))\n",
        "\n",
        "quotient = divident // divisor\n",
        "remainder = divident % divisor\n",
        "\n",
        "print(f\"The result of this division is {quotient} with a remainder of {remainder}\")\n",
        "#"
      ],
      "metadata": {
        "colab": {
          "base_uri": "https://localhost:8080/"
        },
        "id": "qmhgPmuJczgT",
        "outputId": "eba7d123-ff68-4078-a9cf-fd66b824c45b"
      },
      "execution_count": null,
      "outputs": [
        {
          "output_type": "stream",
          "name": "stdout",
          "text": [
            "Please enter an integer to be divided: 4\n",
            "Please enter an integer to divide by: 2\n",
            "The result of this division is 2 with a remainder of 0\n"
          ]
        }
      ]
    },
    {
      "cell_type": "markdown",
      "source": [
        "# **06_rolldice.md**\n",
        "Simulate rolling two dice, and prints results of each roll as well as the total."
      ],
      "metadata": {
        "id": "mQ8_aKw2dz25"
      }
    },
    {
      "cell_type": "code",
      "source": [
        "import random\n",
        "\n",
        "def roll_dice():\n",
        "  return random.randint(1, 6)\n",
        "\n",
        "die1 = roll_dice()\n",
        "die2 = roll_dice()\n",
        "\n",
        "total = die1 + die2\n",
        "\n",
        "print(f\"Die 1: {die1}\")\n",
        "print(f\"Die 2: {die2}\")\n",
        "print(f\"Total: {total}\")\n"
      ],
      "metadata": {
        "colab": {
          "base_uri": "https://localhost:8080/"
        },
        "id": "Q0WpWLvaergi",
        "outputId": "ca67d4b2-d7bd-4e4c-ccbd-c43a997f2e1c"
      },
      "execution_count": null,
      "outputs": [
        {
          "output_type": "stream",
          "name": "stdout",
          "text": [
            "Die 1: 5\n",
            "Die 2: 1\n",
            "Total: 6\n"
          ]
        }
      ]
    },
    {
      "cell_type": "markdown",
      "source": [
        "# **06_seconds_in_year.md**\n",
        "Use Python to calculate the number of seconds in a year, and tell the user what the result is in a nice print statement that looks like this (of course the value 5 should be the calculated number instead):\n",
        "\n",
        "There are 5 seconds in a year!\n",
        "\n",
        "You should use constants for this exercise -- there are 365 days in a year, 24 hours in a day, 60 minutes in an hour, and 60 seconds per minute"
      ],
      "metadata": {
        "id": "GPMHlptYgws3"
      }
    },
    {
      "cell_type": "code",
      "source": [
        "days_in_year = 365\n",
        "hours_in_day = 24\n",
        "minutes_in_hour = 60\n",
        "seconds_in_minute = 60\n",
        "\n",
        "\n",
        "seconds_in_year = days_in_year * hours_in_day * minutes_in_hour * seconds_in_minute\n",
        "\n",
        "\n",
        "print(f\"There are {seconds_in_year} seconds in a year!\")"
      ],
      "metadata": {
        "colab": {
          "base_uri": "https://localhost:8080/"
        },
        "id": "B5N4nD8bg6zs",
        "outputId": "e2f862be-5883-4a2d-baa0-a64095f98dfb"
      },
      "execution_count": null,
      "outputs": [
        {
          "output_type": "stream",
          "name": "stdout",
          "text": [
            "There are 31536000 seconds in a year!\n"
          ]
        }
      ]
    },
    {
      "cell_type": "markdown",
      "source": [
        "# **07_tiny_mad_lib.md**\n",
        "Write a program which prompts the user for an adjective, then a noun, then a verb, and then prints a fun sentence with those words!\n",
        "\n",
        "Mad Libs is a word game where players are prompted for one word at a time, and the words are eventually filled into the blanks of a word template to make an entertaining story! We've provided you with the beginning of a sentence (the SENTENCE_START constant) which will end in a user-inputted adjective, noun, and then verb.\n",
        "\n",
        "Here's a sample run (user input is in bold italics):\n",
        "\n",
        "Please type an adjective and press enter. tiny\n",
        "\n",
        "Please type a noun and press enter. plant\n",
        "\n",
        "Please type a verb and press enter. fly\n",
        "\n",
        "Code in Place is fun. I learned to program and used Python to make my tiny plant fly!"
      ],
      "metadata": {
        "id": "z3zuZnULt4kH"
      }
    },
    {
      "cell_type": "code",
      "source": [
        "adjective = input(\"Please type an adjective and press enter. \")\n",
        "noun = input(\"Please type a noun and press enter. \")\n",
        "adjective = input(\"Please type an adjective and press enter. \")\n",
        "noun = input(\"Please type a noun and press enter. \")\n",
        "verb = input(\"Please type a verb and press enter. \")\n",
        "\n",
        "sentence = f\"Code in Place is fun. I learned to program and used Python to make my {adjective} {noun} {verb}!\"\n",
        "\n",
        "print(sentence)\n",
        "\n"
      ],
      "metadata": {
        "id": "v4sLsRsCt_33"
      },
      "execution_count": null,
      "outputs": []
    }
  ]
}