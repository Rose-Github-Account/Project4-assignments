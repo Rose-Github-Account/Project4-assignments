{
  "nbformat": 4,
  "nbformat_minor": 0,
  "metadata": {
    "colab": {
      "provenance": [],
      "authorship_tag": "ABX9TyNXV0HOU0PzyPh5BHYSlmlk",
      "include_colab_link": true
    },
    "kernelspec": {
      "name": "python3",
      "display_name": "Python 3"
    },
    "language_info": {
      "name": "python"
    }
  },
  "cells": [
    {
      "cell_type": "markdown",
      "metadata": {
        "id": "view-in-github",
        "colab_type": "text"
      },
      "source": [
        "<a href=\"https://colab.research.google.com/github/Rose-Github-Account/Project4-assignments/blob/main/05_loops_control_flow.ipynb\" target=\"_parent\"><img src=\"https://colab.research.google.com/assets/colab-badge.svg\" alt=\"Open In Colab\"/></a>"
      ]
    },
    {
      "cell_type": "markdown",
      "source": [
        "# **00_guess_my_number.m**"
      ],
      "metadata": {
        "id": "2sKHyDSdcypP"
      }
    },
    {
      "cell_type": "code",
      "source": [
        "import random\n",
        "\n",
        "\n",
        "secret_number = random.randint(0, 99)\n",
        "\n",
        "print(\"I am thinking of a number between 0 and 99...\")\n",
        "\n",
        "\n",
        "while True:\n",
        "\n",
        "    guess = int(input(\"Enter a guess: \"))\n",
        "\n",
        "\n",
        "    if guess > secret_number:\n",
        "        print(\"Your guess is too high\")\n",
        "    elif guess < secret_number:\n",
        "        print(\"Your guess is too low\")\n",
        "    else:\n",
        "        print(f\"Congrats! The number was: {secret_number}\")\n",
        "        break\n"
      ],
      "metadata": {
        "colab": {
          "base_uri": "https://localhost:8080/"
        },
        "id": "5cCknSdec19m",
        "outputId": "1279820b-a5f0-4601-9f9a-422bac3839ca"
      },
      "execution_count": null,
      "outputs": [
        {
          "output_type": "stream",
          "name": "stdout",
          "text": [
            "I am thinking of a number between 0 and 99...\n",
            "Enter a guess: 50\n",
            "Your guess is too high\n",
            "Enter a guess: 30\n",
            "Your guess is too low\n",
            "Enter a guess: 32\n",
            "Your guess is too low\n",
            "Enter a guess: 80\n",
            "Your guess is too high\n",
            "Enter a guess: 50\n",
            "Your guess is too high\n",
            "Enter a guess: 55\n",
            "Your guess is too high\n",
            "Enter a guess: 44\n",
            "Your guess is too high\n",
            "Enter a guess: 32\n",
            "Your guess is too low\n",
            "Enter a guess: 28\n",
            "Your guess is too low\n",
            "Enter a guess: 30\n",
            "Your guess is too low\n",
            "Enter a guess: 33\n",
            "Congrats! The number was: 33\n"
          ]
        }
      ]
    },
    {
      "cell_type": "markdown",
      "source": [
        "# **01_fibonacci.md**"
      ],
      "metadata": {
        "id": "FgxrqpvCdIC9"
      }
    },
    {
      "cell_type": "code",
      "source": [
        "\n",
        "MAX_VALUE = 10000\n",
        "\n",
        "\n",
        "fib_0 = 0\n",
        "fib_1 = 1\n",
        "\n",
        "\n",
        "print(fib_0, fib_1, end=\" \")\n",
        "\n",
        "\n",
        "while True:\n",
        "\n",
        "    next_fib = fib_0 + fib_1\n",
        "\n",
        "\n",
        "    if next_fib >= MAX_VALUE:\n",
        "        break\n",
        "\n",
        "\n",
        "    print(next_fib, end=\" \")\n",
        "\n",
        "    # Update the previous two Fibonacci numbers\n",
        "    fib_0 = fib_1\n",
        "    fib_1 = next_fib\n",
        "\n",
        "print()  # Print a newline at the end\n"
      ],
      "metadata": {
        "colab": {
          "base_uri": "https://localhost:8080/"
        },
        "id": "TQUbLGdUdKvy",
        "outputId": "2a8c20b3-970b-40c5-b1e7-f472517e3266"
      },
      "execution_count": null,
      "outputs": [
        {
          "output_type": "stream",
          "name": "stdout",
          "text": [
            "0 1 1 2 3 5 8 13 21 34 55 89 144 233 377 610 987 1597 2584 4181 6765 \n"
          ]
        }
      ]
    },
    {
      "cell_type": "markdown",
      "source": [
        "# **02_print_events.md**"
      ],
      "metadata": {
        "id": "RGV1k_7edwE_"
      }
    },
    {
      "cell_type": "code",
      "source": [
        "\n",
        "for i in range(0, 40, 2):\n",
        "    print(i, end=\" \")\n"
      ],
      "metadata": {
        "colab": {
          "base_uri": "https://localhost:8080/"
        },
        "id": "ZSqHU3ewdy6h",
        "outputId": "d4dad5f2-b005-477e-8db4-8bc3d731b650"
      },
      "execution_count": null,
      "outputs": [
        {
          "output_type": "stream",
          "name": "stdout",
          "text": [
            "0 2 4 6 8 10 12 14 16 18 20 22 24 26 28 30 32 34 36 38 "
          ]
        }
      ]
    },
    {
      "cell_type": "markdown",
      "source": [
        "# **03_wholesome_machine.md**"
      ],
      "metadata": {
        "id": "r7AUVZJQeQsJ"
      }
    },
    {
      "cell_type": "code",
      "source": [
        "\n",
        "affirmation = \"I am capable of doing anything I put my mind to.\"\n",
        "\n",
        "\n",
        "while True:\n",
        "    user_input = input(\"Please type the following affirmation: \")\n",
        "\n",
        "    if user_input == affirmation:\n",
        "        print(\"That's right! :)\")\n",
        "        break\n",
        "    else:\n",
        "        print(\"Hmmm That was not the affirmation.\")\n"
      ],
      "metadata": {
        "id": "E9xTuABteWU8"
      },
      "execution_count": null,
      "outputs": []
    },
    {
      "cell_type": "markdown",
      "source": [
        "# **04_liftoff.md**"
      ],
      "metadata": {
        "id": "bhY-1GVTewEV"
      }
    },
    {
      "cell_type": "code",
      "source": [
        "# Countdown from 10 to 1\n",
        "for i in range(10, 0, -1):\n",
        "    print(i, end=\" \")\n",
        "\n",
        "# Print \"Liftoff!\" after the countdown\n",
        "print(\"Liftoff!\")\n"
      ],
      "metadata": {
        "id": "2ucJFonEeyqd"
      },
      "execution_count": null,
      "outputs": []
    },
    {
      "cell_type": "markdown",
      "source": [
        "# **05_double_it.md**"
      ],
      "metadata": {
        "id": "CXNode-CfFJj"
      }
    },
    {
      "cell_type": "code",
      "source": [
        "\n",
        "curr_value = int(input(\"Enter a number: \"))\n",
        "\n",
        "\n",
        "while curr_value < 100:\n",
        "\n",
        "    curr_value = curr_value * 2\n",
        "\n",
        "    print(curr_value, end=\" \")\n"
      ],
      "metadata": {
        "id": "nPqFCUnBfJlt"
      },
      "execution_count": null,
      "outputs": []
    }
  ]
}