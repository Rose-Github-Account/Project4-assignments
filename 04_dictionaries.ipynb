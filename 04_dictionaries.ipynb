{
  "nbformat": 4,
  "nbformat_minor": 0,
  "metadata": {
    "colab": {
      "provenance": [],
      "authorship_tag": "ABX9TyP15TDrkYcbRu9qVRwU70jh",
      "include_colab_link": true
    },
    "kernelspec": {
      "name": "python3",
      "display_name": "Python 3"
    },
    "language_info": {
      "name": "python"
    }
  },
  "cells": [
    {
      "cell_type": "markdown",
      "metadata": {
        "id": "view-in-github",
        "colab_type": "text"
      },
      "source": [
        "<a href=\"https://colab.research.google.com/github/Rose-Github-Account/Project4-assignments/blob/main/04_dictionaries.ipynb\" target=\"_parent\"><img src=\"https://colab.research.google.com/assets/colab-badge.svg\" alt=\"Open In Colab\"/></a>"
      ]
    },
    {
      "cell_type": "code",
      "execution_count": null,
      "metadata": {
        "id": "BfL6zwCleMWX"
      },
      "outputs": [],
      "source": []
    },
    {
      "cell_type": "markdown",
      "source": [
        "# **00_count_nums.md**\n"
      ],
      "metadata": {
        "id": "wDMtZumqYZmi"
      }
    },
    {
      "cell_type": "code",
      "source": [
        "\n",
        "count_dict = {}\n",
        "\n",
        "\n",
        "while True:\n",
        "    number = input(\"Enter a number: \")\n",
        "\n",
        "\n",
        "    if number == \"\":\n",
        "        break\n",
        "\n",
        "\n",
        "    number = int(number)\n",
        "\n",
        "    if number in count_dict:\n",
        "        count_dict[number] += 1\n",
        "    else:\n",
        "        count_dict[number] = 1\n",
        "\n",
        "\n",
        "for number, count in count_dict.items():\n",
        "    print(f\"{number} appears {count} times.\")\n"
      ],
      "metadata": {
        "colab": {
          "base_uri": "https://localhost:8080/"
        },
        "id": "YIkSwHuvYmwE",
        "outputId": "ce1b43cb-3532-4392-e33a-32294b7e61d5"
      },
      "execution_count": null,
      "outputs": [
        {
          "output_type": "stream",
          "name": "stdout",
          "text": [
            "Enter a number: 22\n",
            "Enter a number: 2\n",
            "Enter a number: 33\n",
            "Enter a number: 22\n",
            "Enter a number: 33\n",
            "Enter a number: 55\n",
            "Enter a number: 66\n",
            "Enter a number: 77\n",
            "Enter a number: 88\n",
            "Enter a number: 88\n",
            "Enter a number: 88\n",
            "Enter a number: 22\n",
            "Enter a number: 11\n",
            "Enter a number: 11\n",
            "Enter a number: \n",
            "22 appears 3 times.\n",
            "2 appears 1 times.\n",
            "33 appears 2 times.\n",
            "55 appears 1 times.\n",
            "66 appears 1 times.\n",
            "77 appears 1 times.\n",
            "88 appears 3 times.\n",
            "11 appears 2 times.\n"
          ]
        }
      ]
    },
    {
      "cell_type": "markdown",
      "source": [
        "# **01_phonebook**"
      ],
      "metadata": {
        "id": "lbJ2v3iHZmwm"
      }
    },
    {
      "cell_type": "code",
      "source": [
        "\n",
        "phonebook = {}\n",
        "\n",
        "\n",
        "def add_contact(name, phone_number):\n",
        "    phonebook[name] = phone_number\n",
        "\n",
        "\n",
        "def search_contact(name):\n",
        "    if name in phonebook:\n",
        "        print(f\"{name}'s phone number is {phonebook[name]}\")\n",
        "    else:\n",
        "        print(f\"Sorry, {name} is not in the phonebook.\")\n",
        "\n",
        "\n",
        "def remove_contact(name):\n",
        "    if name in phonebook:\n",
        "        del phonebook[name]\n",
        "        print(f\"{name} has been removed from the phonebook.\")\n",
        "    else:\n",
        "        print(f\"Sorry, {name} is not in the phonebook.\")\n",
        "\n",
        "def display_contacts():\n",
        "    if phonebook:\n",
        "        print(\"Phonebook contacts:\")\n",
        "        for name, phone_number in phonebook.items():\n",
        "            print(f\"{name}: {phone_number}\")\n",
        "    else:\n",
        "        print(\"The phonebook is empty.\")\n",
        "\n",
        "\n",
        "add_contact(\"Alice\", \"555-1234\")\n",
        "add_contact(\"Bob\", \"555-5678\")\n",
        "add_contact(\"Charlie\", \"555-8765\")\n",
        "\n",
        "search_contact(\"Alice\")\n",
        "search_contact(\"David\")\n",
        "\n",
        "remove_contact(\"Bob\")\n",
        "display_contacts()\n"
      ],
      "metadata": {
        "colab": {
          "base_uri": "https://localhost:8080/"
        },
        "id": "oNUGhHHdZvHc",
        "outputId": "30180f40-303f-4b0c-bc47-e4ac6598f6eb"
      },
      "execution_count": null,
      "outputs": [
        {
          "output_type": "stream",
          "name": "stdout",
          "text": [
            "Alice's phone number is 555-1234\n",
            "Sorry, David is not in the phonebook.\n",
            "Bob has been removed from the phonebook.\n",
            "Phonebook contacts:\n",
            "Alice: 555-1234\n",
            "Charlie: 555-8765\n"
          ]
        }
      ]
    },
    {
      "cell_type": "markdown",
      "source": [
        "# **02_pop_up_shop.md**"
      ],
      "metadata": {
        "id": "QVn5q1vmaTvl"
      }
    },
    {
      "cell_type": "code",
      "source": [
        "\n",
        "fruit_prices = {\n",
        "    \"apple\": 3.5,\n",
        "    \"durian\": 10.0,\n",
        "    \"jackfruit\": 7.5,\n",
        "    \"kiwi\": 2.0,\n",
        "    \"rambutan\": 5.5,\n",
        "    \"mango\": 4.0\n",
        "}\n",
        "\n",
        "total_cost = 0\n",
        "\n",
        "\n",
        "for fruit, price in fruit_prices.items():\n",
        "    quantity = int(input(f\"How many ({fruit}) do you want?: \"))\n",
        "    total_cost += price * quantity\n",
        "\n",
        "7\n",
        "print(f\"Your total is ${total_cost}\")\n"
      ],
      "metadata": {
        "colab": {
          "base_uri": "https://localhost:8080/"
        },
        "id": "4ncIQxpCaWtF",
        "outputId": "d067c752-8351-481c-a6f2-0041d85b058c"
      },
      "execution_count": null,
      "outputs": [
        {
          "output_type": "stream",
          "name": "stdout",
          "text": [
            "How many (apple) do you want?: 2\n",
            "How many (durian) do you want?: 2\n",
            "How many (jackfruit) do you want?: 3\n",
            "How many (kiwi) do you want?: 4\n",
            "How many (rambutan) do you want?: 5\n",
            "How many (mango) do you want?: 6\n",
            "Your total is $109.0\n"
          ]
        }
      ]
    },
    {
      "cell_type": "markdown",
      "source": [
        "# **03_powerful_passwords.md**"
      ],
      "metadata": {
        "id": "qKN3g7aRbjHD"
      }
    },
    {
      "cell_type": "code",
      "source": [
        "import hashlib\n",
        "\n",
        "def hash_password(password):\n",
        "    return hashlib.sha256(password.encode()).hexdigest()\n",
        "\n",
        "\n",
        "stored_logins = {\n",
        "    \"user@example.com\": hash_password(\"mypassword123\"),\n",
        "    \"admin@website.com\": hash_password(\"adminsecure\"),\n",
        "    \"test@domain.com\": hash_password(\"testpassword\")\n",
        "}\n",
        "\n",
        "\n",
        "def login(email, password_to_check):\n",
        "\n",
        "    hashed_password = hash_password(password_to_check)\n",
        "\n",
        "\n",
        "    if email in stored_logins and stored_logins[email] == hashed_password:\n",
        "        return True\n",
        "    else:\n",
        "        return False\n",
        "\n",
        "\n",
        "email = input(\"Enter your email: \")\n",
        "password_to_check = input(\"Enter your password: \")\n",
        "\n",
        "if login(email, password_to_check):\n",
        "    print(\"Login successful!\")\n",
        "else:\n",
        "    print(\"Login failed! Incorrect email or password.\")\n"
      ],
      "metadata": {
        "colab": {
          "base_uri": "https://localhost:8080/"
        },
        "id": "8QwbdWfmbmUb",
        "outputId": "951ccf69-e326-4d7d-d895-0522280e681e"
      },
      "execution_count": null,
      "outputs": [
        {
          "output_type": "stream",
          "name": "stdout",
          "text": [
            "Enter your email: nimra123@gmail.com\n",
            "Enter your password: aaa123$$120\n",
            "Login failed! Incorrect email or password.\n"
          ]
        }
      ]
    }
  ]
}